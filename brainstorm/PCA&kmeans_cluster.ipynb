{
 "cells": [
  {
   "cell_type": "code",
   "execution_count": 1,
   "metadata": {},
   "outputs": [
    {
     "data": {
      "text/html": [
       "<div>\n",
       "<style scoped>\n",
       "    .dataframe tbody tr th:only-of-type {\n",
       "        vertical-align: middle;\n",
       "    }\n",
       "\n",
       "    .dataframe tbody tr th {\n",
       "        vertical-align: top;\n",
       "    }\n",
       "\n",
       "    .dataframe thead th {\n",
       "        text-align: right;\n",
       "    }\n",
       "</style>\n",
       "<table border=\"1\" class=\"dataframe\">\n",
       "  <thead>\n",
       "    <tr style=\"text-align: right;\">\n",
       "      <th></th>\n",
       "      <th>chroma_stft</th>\n",
       "      <th>spectral_centroid</th>\n",
       "      <th>spectral_bandwidth</th>\n",
       "      <th>rolloff</th>\n",
       "      <th>zero_crossing_rate</th>\n",
       "      <th>mfcc1</th>\n",
       "      <th>mfcc2</th>\n",
       "      <th>mfcc3</th>\n",
       "      <th>mfcc4</th>\n",
       "      <th>mfcc5</th>\n",
       "      <th>...</th>\n",
       "      <th>mfcc12</th>\n",
       "      <th>mfcc13</th>\n",
       "      <th>mfcc14</th>\n",
       "      <th>mfcc15</th>\n",
       "      <th>mfcc16</th>\n",
       "      <th>mfcc17</th>\n",
       "      <th>mfcc18</th>\n",
       "      <th>mfcc19</th>\n",
       "      <th>mfcc20</th>\n",
       "      <th>label</th>\n",
       "    </tr>\n",
       "  </thead>\n",
       "  <tbody>\n",
       "    <tr>\n",
       "      <th>0</th>\n",
       "      <td>0.349943</td>\n",
       "      <td>1784.420446</td>\n",
       "      <td>2002.650192</td>\n",
       "      <td>3806.485316</td>\n",
       "      <td>0.083066</td>\n",
       "      <td>-113.596748</td>\n",
       "      <td>121.557297</td>\n",
       "      <td>-19.158825</td>\n",
       "      <td>42.351032</td>\n",
       "      <td>-6.376458</td>\n",
       "      <td>...</td>\n",
       "      <td>8.810669</td>\n",
       "      <td>-3.667368</td>\n",
       "      <td>5.751691</td>\n",
       "      <td>-5.162763</td>\n",
       "      <td>0.750948</td>\n",
       "      <td>-1.691938</td>\n",
       "      <td>-0.409953</td>\n",
       "      <td>-2.300209</td>\n",
       "      <td>1.219929</td>\n",
       "      <td>blues</td>\n",
       "    </tr>\n",
       "    <tr>\n",
       "      <th>1</th>\n",
       "      <td>0.340983</td>\n",
       "      <td>1529.835316</td>\n",
       "      <td>2038.617579</td>\n",
       "      <td>3548.820207</td>\n",
       "      <td>0.056044</td>\n",
       "      <td>-207.556793</td>\n",
       "      <td>124.006721</td>\n",
       "      <td>8.930560</td>\n",
       "      <td>35.874687</td>\n",
       "      <td>2.916037</td>\n",
       "      <td>...</td>\n",
       "      <td>5.376803</td>\n",
       "      <td>-2.239120</td>\n",
       "      <td>4.216963</td>\n",
       "      <td>-6.012273</td>\n",
       "      <td>0.936109</td>\n",
       "      <td>-0.716537</td>\n",
       "      <td>0.293876</td>\n",
       "      <td>-0.287431</td>\n",
       "      <td>0.531573</td>\n",
       "      <td>blues</td>\n",
       "    </tr>\n",
       "    <tr>\n",
       "      <th>2</th>\n",
       "      <td>0.363603</td>\n",
       "      <td>1552.481958</td>\n",
       "      <td>1747.165985</td>\n",
       "      <td>3040.514948</td>\n",
       "      <td>0.076301</td>\n",
       "      <td>-90.754387</td>\n",
       "      <td>140.459900</td>\n",
       "      <td>-29.109968</td>\n",
       "      <td>31.689013</td>\n",
       "      <td>-13.987036</td>\n",
       "      <td>...</td>\n",
       "      <td>5.789265</td>\n",
       "      <td>-8.905224</td>\n",
       "      <td>-1.083720</td>\n",
       "      <td>-9.218359</td>\n",
       "      <td>2.455806</td>\n",
       "      <td>-7.726901</td>\n",
       "      <td>-1.815723</td>\n",
       "      <td>-3.433434</td>\n",
       "      <td>-2.226821</td>\n",
       "      <td>blues</td>\n",
       "    </tr>\n",
       "    <tr>\n",
       "      <th>3</th>\n",
       "      <td>0.404779</td>\n",
       "      <td>1070.119953</td>\n",
       "      <td>1596.333948</td>\n",
       "      <td>2185.028454</td>\n",
       "      <td>0.033309</td>\n",
       "      <td>-199.431152</td>\n",
       "      <td>150.099213</td>\n",
       "      <td>5.647593</td>\n",
       "      <td>26.871927</td>\n",
       "      <td>1.754462</td>\n",
       "      <td>...</td>\n",
       "      <td>6.087677</td>\n",
       "      <td>-2.476421</td>\n",
       "      <td>-1.073890</td>\n",
       "      <td>-2.874778</td>\n",
       "      <td>0.780977</td>\n",
       "      <td>-3.316932</td>\n",
       "      <td>0.637982</td>\n",
       "      <td>-0.619690</td>\n",
       "      <td>-3.408233</td>\n",
       "      <td>blues</td>\n",
       "    </tr>\n",
       "    <tr>\n",
       "      <th>4</th>\n",
       "      <td>0.308590</td>\n",
       "      <td>1835.494603</td>\n",
       "      <td>1748.362448</td>\n",
       "      <td>3580.945013</td>\n",
       "      <td>0.101500</td>\n",
       "      <td>-160.266037</td>\n",
       "      <td>126.198807</td>\n",
       "      <td>-35.605450</td>\n",
       "      <td>22.153301</td>\n",
       "      <td>-32.489269</td>\n",
       "      <td>...</td>\n",
       "      <td>-2.806384</td>\n",
       "      <td>-6.934123</td>\n",
       "      <td>-7.558618</td>\n",
       "      <td>-9.173553</td>\n",
       "      <td>-4.512165</td>\n",
       "      <td>-5.453538</td>\n",
       "      <td>-0.924161</td>\n",
       "      <td>-4.409333</td>\n",
       "      <td>-11.703781</td>\n",
       "      <td>blues</td>\n",
       "    </tr>\n",
       "  </tbody>\n",
       "</table>\n",
       "<p>5 rows × 26 columns</p>\n",
       "</div>"
      ],
      "text/plain": [
       "   chroma_stft  spectral_centroid  spectral_bandwidth      rolloff  \\\n",
       "0     0.349943        1784.420446         2002.650192  3806.485316   \n",
       "1     0.340983        1529.835316         2038.617579  3548.820207   \n",
       "2     0.363603        1552.481958         1747.165985  3040.514948   \n",
       "3     0.404779        1070.119953         1596.333948  2185.028454   \n",
       "4     0.308590        1835.494603         1748.362448  3580.945013   \n",
       "\n",
       "   zero_crossing_rate       mfcc1       mfcc2      mfcc3      mfcc4  \\\n",
       "0            0.083066 -113.596748  121.557297 -19.158825  42.351032   \n",
       "1            0.056044 -207.556793  124.006721   8.930560  35.874687   \n",
       "2            0.076301  -90.754387  140.459900 -29.109968  31.689013   \n",
       "3            0.033309 -199.431152  150.099213   5.647593  26.871927   \n",
       "4            0.101500 -160.266037  126.198807 -35.605450  22.153301   \n",
       "\n",
       "       mfcc5  ...    mfcc12    mfcc13    mfcc14    mfcc15    mfcc16    mfcc17  \\\n",
       "0  -6.376458  ...  8.810669 -3.667368  5.751691 -5.162763  0.750948 -1.691938   \n",
       "1   2.916037  ...  5.376803 -2.239120  4.216963 -6.012273  0.936109 -0.716537   \n",
       "2 -13.987036  ...  5.789265 -8.905224 -1.083720 -9.218359  2.455806 -7.726901   \n",
       "3   1.754462  ...  6.087677 -2.476421 -1.073890 -2.874778  0.780977 -3.316932   \n",
       "4 -32.489269  ... -2.806384 -6.934123 -7.558618 -9.173553 -4.512165 -5.453538   \n",
       "\n",
       "     mfcc18    mfcc19     mfcc20  label  \n",
       "0 -0.409953 -2.300209   1.219929  blues  \n",
       "1  0.293876 -0.287431   0.531573  blues  \n",
       "2 -1.815723 -3.433434  -2.226821  blues  \n",
       "3  0.637982 -0.619690  -3.408233  blues  \n",
       "4 -0.924161 -4.409333 -11.703781  blues  \n",
       "\n",
       "[5 rows x 26 columns]"
      ]
     },
     "execution_count": 1,
     "metadata": {},
     "output_type": "execute_result"
    }
   ],
   "source": [
    "import pandas as pd\n",
    "import numpy as np\n",
    "import matplotlib.pyplot as plt\n",
    "\n",
    "data = pd.read_csv(\"data.csv\")\n",
    "data = data.drop(columns=['filename'])\n",
    "data.head()"
   ]
  },
  {
   "cell_type": "code",
   "execution_count": 2,
   "metadata": {},
   "outputs": [
    {
     "data": {
      "text/plain": [
       "Index(['chroma_stft', 'spectral_centroid', 'spectral_bandwidth', 'rolloff',\n",
       "       'zero_crossing_rate', 'mfcc1', 'mfcc2', 'mfcc3', 'mfcc4', 'mfcc5',\n",
       "       'mfcc6', 'mfcc7', 'mfcc8', 'mfcc9', 'mfcc10', 'mfcc11', 'mfcc12',\n",
       "       'mfcc13', 'mfcc14', 'mfcc15', 'mfcc16', 'mfcc17', 'mfcc18', 'mfcc19',\n",
       "       'mfcc20', 'label'],\n",
       "      dtype='object')"
      ]
     },
     "execution_count": 2,
     "metadata": {},
     "output_type": "execute_result"
    }
   ],
   "source": [
    "data.columns"
   ]
  },
  {
   "cell_type": "code",
   "execution_count": 3,
   "metadata": {},
   "outputs": [
    {
     "data": {
      "text/plain": [
       "(1000, 26)"
      ]
     },
     "execution_count": 3,
     "metadata": {},
     "output_type": "execute_result"
    }
   ],
   "source": [
    "data.shape"
   ]
  },
  {
   "cell_type": "code",
   "execution_count": null,
   "metadata": {},
   "outputs": [],
   "source": []
  },
  {
   "cell_type": "code",
   "execution_count": null,
   "metadata": {},
   "outputs": [],
   "source": []
  },
  {
   "cell_type": "code",
   "execution_count": null,
   "metadata": {},
   "outputs": [],
   "source": []
  },
  {
   "cell_type": "code",
   "execution_count": null,
   "metadata": {},
   "outputs": [],
   "source": []
  },
  {
   "cell_type": "code",
   "execution_count": 4,
   "metadata": {},
   "outputs": [],
   "source": [
    "# Preprocessing\n",
    "from sklearn.preprocessing import LabelEncoder, StandardScaler\n",
    "from sklearn.model_selection import train_test_split\n",
    "\n",
    "genre_list = data.iloc[:, -1]\n",
    "encoder = LabelEncoder()\n",
    "y = encoder.fit_transform(genre_list)"
   ]
  },
  {
   "cell_type": "code",
   "execution_count": 5,
   "metadata": {},
   "outputs": [],
   "source": [
    "scaler = StandardScaler()\n",
    "X = scaler.fit_transform(np.array(data.iloc[:, :-1], dtype = float))"
   ]
  },
  {
   "cell_type": "code",
   "execution_count": 6,
   "metadata": {},
   "outputs": [
    {
     "name": "stdout",
     "output_type": "stream",
     "text": [
      "original shape:    (1000, 25)\n",
      "transformed shape: (1000, 2)\n"
     ]
    }
   ],
   "source": [
    "#Use PCA to reduce feature size to 2\n",
    "from sklearn.decomposition import PCA\n",
    "\n",
    "pca = PCA(n_components=2)\n",
    "pca.fit(X)\n",
    "X_pca = pca.transform(X)\n",
    "print(\"original shape:   \", X.shape)\n",
    "print(\"transformed shape:\", X_pca.shape)"
   ]
  },
  {
   "cell_type": "code",
   "execution_count": 7,
   "metadata": {},
   "outputs": [
    {
     "data": {
      "image/png": "[encoded data removed]",
      "text/plain": [
       "<Figure size 432x288 with 1 Axes>"
      ]
     },
     "metadata": {
      "needs_background": "light"
     },
     "output_type": "display_data"
    }
   ],
   "source": [
    "plt.scatter(X_pca[:, 0], X_pca[:, 1])\n",
    "plt.show()"
   ]
  },
  {
   "cell_type": "code",
   "execution_count": 8,
   "metadata": {},
   "outputs": [],
   "source": [
    "# Create a kmeans model using k = 9, for the 9 genres\n",
    "from sklearn.cluster import KMeans\n",
    "kmeans = KMeans(n_clusters=9)\n",
    "\n",
    "# Fit the model to the data\n",
    "kmeans.fit(X_pca)\n",
    "\n",
    "# Use the data to predict the clusters\n",
    "# save the predictions as `predicted_clusters`\n",
    "predicted_clusters = kmeans.predict(X_pca)"
   ]
  },
  {
   "cell_type": "code",
   "execution_count": 9,
   "metadata": {},
   "outputs": [
    {
     "data": {
      "image/png": "[encoded data removed]",
      "text/plain": [
       "<Figure size 432x288 with 1 Axes>"
      ]
     },
     "metadata": {
      "needs_background": "light"
     },
     "output_type": "display_data"
    }
   ],
   "source": [
    " # Plot the clusters\n",
    "plt.scatter(X_pca[:, 0], X_pca[:, 1], c=predicted_clusters, s=50, cmap='viridis')\n",
    "plt.show()"
   ]
  },
  {
   "cell_type": "code",
   "execution_count": 10,
   "metadata": {},
   "outputs": [],
   "source": [
    " # Print the cluster centers and cluster labels\n",
    "centers = kmeans.cluster_centers_\n",
    "labels = kmeans.labels_\n"
   ]
  },
  {
   "cell_type": "code",
   "execution_count": 11,
   "metadata": {},
   "outputs": [
    {
     "data": {
      "text/plain": [
       "array([[-2.61705727,  0.79029139],\n",
       "       [ 1.40097703, -1.10187874],\n",
       "       [ 3.62830203, -0.30083635],\n",
       "       [-2.74982712, -3.96145753],\n",
       "       [-2.54474387,  4.33235723],\n",
       "       [ 4.73421495,  1.50390354],\n",
       "       [-2.18245214, -1.8902556 ],\n",
       "       [-1.63977831,  2.64216772],\n",
       "       [-0.0779451 , -3.05902751]])"
      ]
     },
     "execution_count": 11,
     "metadata": {},
     "output_type": "execute_result"
    }
   ],
   "source": [
    "centers\n"
   ]
  },
  {
   "cell_type": "code",
   "execution_count": 12,
   "metadata": {},
   "outputs": [
    {
     "data": {
      "image/png": "[encoded data removed]",
      "text/plain": [
       "<Figure size 432x288 with 1 Axes>"
      ]
     },
     "metadata": {
      "needs_background": "light"
     },
     "output_type": "display_data"
    }
   ],
   "source": [
    " plt.scatter(X_pca[:, 0], X_pca[:, 1], c=labels, s=50, cmap='viridis')\n",
    "plt.scatter(centers[:, 0], centers[:, 1], c='black', s=200, alpha=0.5)\n",
    "\n",
    "plt.show()"
   ]
  },
  {
   "cell_type": "code",
   "execution_count": 13,
   "metadata": {},
   "outputs": [],
   "source": [
    "#using test data and predicting\n",
    "\n",
    "test_data=pd.read_csv('Testdata.csv')"
   ]
  },
  {
   "cell_type": "code",
   "execution_count": 18,
   "metadata": {},
   "outputs": [
    {
     "data": {
      "text/html": [
       "<div>\n",
       "<style scoped>\n",
       "    .dataframe tbody tr th:only-of-type {\n",
       "        vertical-align: middle;\n",
       "    }\n",
       "\n",
       "    .dataframe tbody tr th {\n",
       "        vertical-align: top;\n",
       "    }\n",
       "\n",
       "    .dataframe thead th {\n",
       "        text-align: right;\n",
       "    }\n",
       "</style>\n",
       "<table border=\"1\" class=\"dataframe\">\n",
       "  <thead>\n",
       "    <tr style=\"text-align: right;\">\n",
       "      <th></th>\n",
       "      <th>chroma_stft</th>\n",
       "      <th>rmse</th>\n",
       "      <th>spectral_centroid</th>\n",
       "      <th>spectral_bandwidth</th>\n",
       "      <th>rolloff</th>\n",
       "      <th>zero_crossing_rate</th>\n",
       "      <th>mfcc1</th>\n",
       "      <th>mfcc2</th>\n",
       "      <th>mfcc3</th>\n",
       "      <th>mfcc4</th>\n",
       "      <th>...</th>\n",
       "      <th>mfcc11</th>\n",
       "      <th>mfcc12</th>\n",
       "      <th>mfcc13</th>\n",
       "      <th>mfcc14</th>\n",
       "      <th>mfcc15</th>\n",
       "      <th>mfcc16</th>\n",
       "      <th>mfcc17</th>\n",
       "      <th>mfcc18</th>\n",
       "      <th>mfcc19</th>\n",
       "      <th>mfcc20</th>\n",
       "    </tr>\n",
       "  </thead>\n",
       "  <tbody>\n",
       "    <tr>\n",
       "      <th>0</th>\n",
       "      <td>0.430936</td>\n",
       "      <td>0.110694</td>\n",
       "      <td>2442.785643</td>\n",
       "      <td>2915.456674</td>\n",
       "      <td>5670.865709</td>\n",
       "      <td>0.073184</td>\n",
       "      <td>-190.962662</td>\n",
       "      <td>81.922966</td>\n",
       "      <td>42.553303</td>\n",
       "      <td>32.291203</td>\n",
       "      <td>...</td>\n",
       "      <td>2.488529</td>\n",
       "      <td>4.890075</td>\n",
       "      <td>1.366096</td>\n",
       "      <td>-2.889347</td>\n",
       "      <td>0.040542</td>\n",
       "      <td>-1.458207</td>\n",
       "      <td>-2.538516</td>\n",
       "      <td>-2.628987</td>\n",
       "      <td>-2.856635</td>\n",
       "      <td>-1.249145</td>\n",
       "    </tr>\n",
       "    <tr>\n",
       "      <th>1</th>\n",
       "      <td>0.346963</td>\n",
       "      <td>0.122122</td>\n",
       "      <td>2757.332814</td>\n",
       "      <td>2611.921131</td>\n",
       "      <td>5848.422969</td>\n",
       "      <td>0.130378</td>\n",
       "      <td>-94.128960</td>\n",
       "      <td>68.174881</td>\n",
       "      <td>-4.051095</td>\n",
       "      <td>13.342934</td>\n",
       "      <td>...</td>\n",
       "      <td>-8.247558</td>\n",
       "      <td>-8.146507</td>\n",
       "      <td>-6.071809</td>\n",
       "      <td>-6.335148</td>\n",
       "      <td>-2.611379</td>\n",
       "      <td>-3.512453</td>\n",
       "      <td>-2.537906</td>\n",
       "      <td>-0.136862</td>\n",
       "      <td>0.798572</td>\n",
       "      <td>-0.725953</td>\n",
       "    </tr>\n",
       "    <tr>\n",
       "      <th>2</th>\n",
       "      <td>0.231934</td>\n",
       "      <td>0.172526</td>\n",
       "      <td>1487.967941</td>\n",
       "      <td>2028.305165</td>\n",
       "      <td>3056.223186</td>\n",
       "      <td>0.048846</td>\n",
       "      <td>-153.480103</td>\n",
       "      <td>136.500168</td>\n",
       "      <td>4.522055</td>\n",
       "      <td>28.937588</td>\n",
       "      <td>...</td>\n",
       "      <td>-9.555628</td>\n",
       "      <td>-10.578224</td>\n",
       "      <td>-15.407278</td>\n",
       "      <td>-3.126045</td>\n",
       "      <td>-9.627593</td>\n",
       "      <td>-10.926598</td>\n",
       "      <td>-7.032397</td>\n",
       "      <td>-9.769959</td>\n",
       "      <td>-5.283998</td>\n",
       "      <td>-2.460332</td>\n",
       "    </tr>\n",
       "  </tbody>\n",
       "</table>\n",
       "<p>3 rows × 26 columns</p>\n",
       "</div>"
      ],
      "text/plain": [
       "   chroma_stft      rmse  spectral_centroid  spectral_bandwidth      rolloff  \\\n",
       "0     0.430936  0.110694        2442.785643         2915.456674  5670.865709   \n",
       "1     0.346963  0.122122        2757.332814         2611.921131  5848.422969   \n",
       "2     0.231934  0.172526        1487.967941         2028.305165  3056.223186   \n",
       "\n",
       "   zero_crossing_rate       mfcc1       mfcc2      mfcc3      mfcc4  ...  \\\n",
       "0            0.073184 -190.962662   81.922966  42.553303  32.291203  ...   \n",
       "1            0.130378  -94.128960   68.174881  -4.051095  13.342934  ...   \n",
       "2            0.048846 -153.480103  136.500168   4.522055  28.937588  ...   \n",
       "\n",
       "     mfcc11     mfcc12     mfcc13    mfcc14    mfcc15     mfcc16    mfcc17  \\\n",
       "0  2.488529   4.890075   1.366096 -2.889347  0.040542  -1.458207 -2.538516   \n",
       "1 -8.247558  -8.146507  -6.071809 -6.335148 -2.611379  -3.512453 -2.537906   \n",
       "2 -9.555628 -10.578224 -15.407278 -3.126045 -9.627593 -10.926598 -7.032397   \n",
       "\n",
       "     mfcc18    mfcc19    mfcc20  \n",
       "0 -2.628987 -2.856635 -1.249145  \n",
       "1 -0.136862  0.798572 -0.725953  \n",
       "2 -9.769959 -5.283998 -2.460332  \n",
       "\n",
       "[3 rows x 26 columns]"
      ]
     },
     "execution_count": 18,
     "metadata": {},
     "output_type": "execute_result"
    }
   ],
   "source": [
    "test_data = test_data.drop(columns=['filename', 'label'])\n",
    "test_data.head()"
   ]
  },
  {
   "cell_type": "code",
   "execution_count": 23,
   "metadata": {},
   "outputs": [
    {
     "name": "stdout",
     "output_type": "stream",
     "text": [
      "original shape:    (3, 26)\n",
      "transformed shape: (3, 2)\n"
     ]
    }
   ],
   "source": [
    "#Need to use PCA to reduce feature size to from 26 to 2\n",
    "\n",
    "pca = PCA(n_components=2)\n",
    "pca.fit(test_data)\n",
    "X_pca_test = pca.transform(test_data)\n",
    "print(\"original shape:   \", test_data.shape)\n",
    "print(\"transformed shape:\", X_pca_test.shape)"
   ]
  },
  {
   "cell_type": "code",
   "execution_count": 24,
   "metadata": {},
   "outputs": [
    {
     "data": {
      "text/plain": [
       "array([4, 3, 5])"
      ]
     },
     "execution_count": 24,
     "metadata": {},
     "output_type": "execute_result"
    }
   ],
   "source": [
    "kmeans.predict(X_pca_test)"
   ]
  },
  {
   "cell_type": "code",
   "execution_count": null,
   "metadata": {},
   "outputs": [],
   "source": []
  },
  {
   "cell_type": "code",
   "execution_count": null,
   "metadata": {
    "scrolled": true
   },
   "outputs": [],
   "source": []
  },
  {
   "cell_type": "code",
   "execution_count": null,
   "metadata": {},
   "outputs": [],
   "source": []
  },
  {
   "cell_type": "code",
   "execution_count": null,
   "metadata": {},
   "outputs": [],
   "source": []
  },
  {
   "cell_type": "code",
   "execution_count": null,
   "metadata": {},
   "outputs": [],
   "source": []
  },
  {
   "cell_type": "code",
   "execution_count": null,
   "metadata": {},
   "outputs": [],
   "source": []
  },
  {
   "cell_type": "code",
   "execution_count": null,
   "metadata": {},
   "outputs": [],
   "source": []
  },
  {
   "cell_type": "code",
   "execution_count": null,
   "metadata": {},
   "outputs": [],
   "source": []
  },
  {
   "cell_type": "code",
   "execution_count": null,
   "metadata": {},
   "outputs": [],
   "source": []
  },
  {
   "cell_type": "code",
   "execution_count": null,
   "metadata": {},
   "outputs": [],
   "source": []
  },
  {
   "cell_type": "code",
   "execution_count": null,
   "metadata": {},
   "outputs": [],
   "source": []
  },
  {
   "cell_type": "code",
   "execution_count": null,
   "metadata": {},
   "outputs": [],
   "source": []
  }
 ],
 "metadata": {
  "kernelspec": {
   "display_name": "Python 3",
   "language": "python",
   "name": "python3"
  },
  "language_info": {
   "codemirror_mode": {
    "name": "ipython",
    "version": 3
   },
   "file_extension": ".py",
   "mimetype": "text/x-python",
   "name": "python",
   "nbconvert_exporter": "python",
   "pygments_lexer": "ipython3",
   "version": "3.6.10"
  }
 },
 "nbformat": 4,
 "nbformat_minor": 4
}
