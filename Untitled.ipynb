{
 "cells": [
  {
   "cell_type": "code",
   "execution_count": 1,
   "metadata": {},
   "outputs": [],
   "source": [
    "import pandas as pd\n",
    "import numpy as np\n",
    "import matplotlib.pyplot as plt\n",
    "%matplotlib inline\n",
    "\n",
    "# Preprocessing\n",
    "from sklearn.model_selection import train_test_split\n",
    "from sklearn.preprocessing import LabelEncoder, StandardScaler"
   ]
  },
  {
   "cell_type": "code",
   "execution_count": 2,
   "metadata": {},
   "outputs": [
    {
     "data": {
      "text/html": [
       "<div>\n",
       "<style scoped>\n",
       "    .dataframe tbody tr th:only-of-type {\n",
       "        vertical-align: middle;\n",
       "    }\n",
       "\n",
       "    .dataframe tbody tr th {\n",
       "        vertical-align: top;\n",
       "    }\n",
       "\n",
       "    .dataframe thead th {\n",
       "        text-align: right;\n",
       "    }\n",
       "</style>\n",
       "<table border=\"1\" class=\"dataframe\">\n",
       "  <thead>\n",
       "    <tr style=\"text-align: right;\">\n",
       "      <th></th>\n",
       "      <th>chroma_stft</th>\n",
       "      <th>rmse</th>\n",
       "      <th>spectral_centroid</th>\n",
       "      <th>spectral_bandwidth</th>\n",
       "      <th>rolloff</th>\n",
       "      <th>zero_crossing_rate</th>\n",
       "      <th>mfcc1</th>\n",
       "      <th>mfcc2</th>\n",
       "      <th>mfcc3</th>\n",
       "      <th>mfcc4</th>\n",
       "      <th>...</th>\n",
       "      <th>mfcc12</th>\n",
       "      <th>mfcc13</th>\n",
       "      <th>mfcc14</th>\n",
       "      <th>mfcc15</th>\n",
       "      <th>mfcc16</th>\n",
       "      <th>mfcc17</th>\n",
       "      <th>mfcc18</th>\n",
       "      <th>mfcc19</th>\n",
       "      <th>mfcc20</th>\n",
       "      <th>label</th>\n",
       "    </tr>\n",
       "  </thead>\n",
       "  <tbody>\n",
       "    <tr>\n",
       "      <td>0</td>\n",
       "      <td>0.349943</td>\n",
       "      <td>0.130225</td>\n",
       "      <td>1784.420446</td>\n",
       "      <td>2002.650192</td>\n",
       "      <td>3806.485316</td>\n",
       "      <td>0.083066</td>\n",
       "      <td>-113.596748</td>\n",
       "      <td>121.557297</td>\n",
       "      <td>-19.158825</td>\n",
       "      <td>42.351032</td>\n",
       "      <td>...</td>\n",
       "      <td>8.810669</td>\n",
       "      <td>-3.667368</td>\n",
       "      <td>5.751691</td>\n",
       "      <td>-5.162763</td>\n",
       "      <td>0.750948</td>\n",
       "      <td>-1.691938</td>\n",
       "      <td>-0.409953</td>\n",
       "      <td>-2.300209</td>\n",
       "      <td>1.219929</td>\n",
       "      <td>blues</td>\n",
       "    </tr>\n",
       "    <tr>\n",
       "      <td>1</td>\n",
       "      <td>0.340983</td>\n",
       "      <td>0.130225</td>\n",
       "      <td>1529.835316</td>\n",
       "      <td>2038.617579</td>\n",
       "      <td>3548.820207</td>\n",
       "      <td>0.056044</td>\n",
       "      <td>-207.556793</td>\n",
       "      <td>124.006721</td>\n",
       "      <td>8.930560</td>\n",
       "      <td>35.874687</td>\n",
       "      <td>...</td>\n",
       "      <td>5.376803</td>\n",
       "      <td>-2.239120</td>\n",
       "      <td>4.216963</td>\n",
       "      <td>-6.012273</td>\n",
       "      <td>0.936110</td>\n",
       "      <td>-0.716537</td>\n",
       "      <td>0.293876</td>\n",
       "      <td>-0.287431</td>\n",
       "      <td>0.531573</td>\n",
       "      <td>blues</td>\n",
       "    </tr>\n",
       "    <tr>\n",
       "      <td>2</td>\n",
       "      <td>0.363603</td>\n",
       "      <td>0.095918</td>\n",
       "      <td>1552.481958</td>\n",
       "      <td>1747.165985</td>\n",
       "      <td>3040.514948</td>\n",
       "      <td>0.076301</td>\n",
       "      <td>-90.754387</td>\n",
       "      <td>140.459900</td>\n",
       "      <td>-29.109968</td>\n",
       "      <td>31.689013</td>\n",
       "      <td>...</td>\n",
       "      <td>5.789265</td>\n",
       "      <td>-8.905224</td>\n",
       "      <td>-1.083720</td>\n",
       "      <td>-9.218359</td>\n",
       "      <td>2.455806</td>\n",
       "      <td>-7.726901</td>\n",
       "      <td>-1.815723</td>\n",
       "      <td>-3.433434</td>\n",
       "      <td>-2.226821</td>\n",
       "      <td>blues</td>\n",
       "    </tr>\n",
       "    <tr>\n",
       "      <td>3</td>\n",
       "      <td>0.404779</td>\n",
       "      <td>0.175573</td>\n",
       "      <td>1070.119953</td>\n",
       "      <td>1596.333948</td>\n",
       "      <td>2185.028454</td>\n",
       "      <td>0.033309</td>\n",
       "      <td>-199.431152</td>\n",
       "      <td>150.099213</td>\n",
       "      <td>5.647593</td>\n",
       "      <td>26.871927</td>\n",
       "      <td>...</td>\n",
       "      <td>6.087677</td>\n",
       "      <td>-2.476421</td>\n",
       "      <td>-1.073890</td>\n",
       "      <td>-2.874778</td>\n",
       "      <td>0.780977</td>\n",
       "      <td>-3.316932</td>\n",
       "      <td>0.637982</td>\n",
       "      <td>-0.619690</td>\n",
       "      <td>-3.408233</td>\n",
       "      <td>blues</td>\n",
       "    </tr>\n",
       "    <tr>\n",
       "      <td>4</td>\n",
       "      <td>0.308590</td>\n",
       "      <td>0.141191</td>\n",
       "      <td>1835.494603</td>\n",
       "      <td>1748.362448</td>\n",
       "      <td>3580.945013</td>\n",
       "      <td>0.101500</td>\n",
       "      <td>-160.266037</td>\n",
       "      <td>126.198807</td>\n",
       "      <td>-35.605450</td>\n",
       "      <td>22.153301</td>\n",
       "      <td>...</td>\n",
       "      <td>-2.806384</td>\n",
       "      <td>-6.934123</td>\n",
       "      <td>-7.558618</td>\n",
       "      <td>-9.173553</td>\n",
       "      <td>-4.512165</td>\n",
       "      <td>-5.453538</td>\n",
       "      <td>-0.924161</td>\n",
       "      <td>-4.409333</td>\n",
       "      <td>-11.703781</td>\n",
       "      <td>blues</td>\n",
       "    </tr>\n",
       "  </tbody>\n",
       "</table>\n",
       "<p>5 rows × 27 columns</p>\n",
       "</div>"
      ],
      "text/plain": [
       "   chroma_stft      rmse  spectral_centroid  spectral_bandwidth      rolloff  \\\n",
       "0     0.349943  0.130225        1784.420446         2002.650192  3806.485316   \n",
       "1     0.340983  0.130225        1529.835316         2038.617579  3548.820207   \n",
       "2     0.363603  0.095918        1552.481958         1747.165985  3040.514948   \n",
       "3     0.404779  0.175573        1070.119953         1596.333948  2185.028454   \n",
       "4     0.308590  0.141191        1835.494603         1748.362448  3580.945013   \n",
       "\n",
       "   zero_crossing_rate       mfcc1       mfcc2      mfcc3      mfcc4  ...  \\\n",
       "0            0.083066 -113.596748  121.557297 -19.158825  42.351032  ...   \n",
       "1            0.056044 -207.556793  124.006721   8.930560  35.874687  ...   \n",
       "2            0.076301  -90.754387  140.459900 -29.109968  31.689013  ...   \n",
       "3            0.033309 -199.431152  150.099213   5.647593  26.871927  ...   \n",
       "4            0.101500 -160.266037  126.198807 -35.605450  22.153301  ...   \n",
       "\n",
       "     mfcc12    mfcc13    mfcc14    mfcc15    mfcc16    mfcc17    mfcc18  \\\n",
       "0  8.810669 -3.667368  5.751691 -5.162763  0.750948 -1.691938 -0.409953   \n",
       "1  5.376803 -2.239120  4.216963 -6.012273  0.936110 -0.716537  0.293876   \n",
       "2  5.789265 -8.905224 -1.083720 -9.218359  2.455806 -7.726901 -1.815723   \n",
       "3  6.087677 -2.476421 -1.073890 -2.874778  0.780977 -3.316932  0.637982   \n",
       "4 -2.806384 -6.934123 -7.558618 -9.173553 -4.512165 -5.453538 -0.924161   \n",
       "\n",
       "     mfcc19     mfcc20  label  \n",
       "0 -2.300209   1.219929  blues  \n",
       "1 -0.287431   0.531573  blues  \n",
       "2 -3.433434  -2.226821  blues  \n",
       "3 -0.619690  -3.408233  blues  \n",
       "4 -4.409333 -11.703781  blues  \n",
       "\n",
       "[5 rows x 27 columns]"
      ]
     },
     "execution_count": 2,
     "metadata": {},
     "output_type": "execute_result"
    }
   ],
   "source": [
    "data = pd.read_csv('data.csv')\n",
    "data = data.drop(columns=['filename'])\n",
    "data.head()"
   ]
  },
  {
   "cell_type": "code",
   "execution_count": 3,
   "metadata": {},
   "outputs": [],
   "source": [
    "genre_list = data.iloc[:, -1]\n",
    "encoder = LabelEncoder()\n",
    "y = encoder.fit_transform(genre_list)"
   ]
  },
  {
   "cell_type": "code",
   "execution_count": 4,
   "metadata": {},
   "outputs": [],
   "source": [
    "scaler = StandardScaler()\n",
    "X = scaler.fit_transform(np.array(data.iloc[:, :-1], dtype = float))"
   ]
  },
  {
   "cell_type": "code",
   "execution_count": 5,
   "metadata": {},
   "outputs": [],
   "source": [
    "X_train, X_test, y_train, y_test = train_test_split(X, y, test_size=0.2)"
   ]
  },
  {
   "cell_type": "code",
   "execution_count": 6,
   "metadata": {},
   "outputs": [
    {
     "data": {
      "text/plain": [
       "800"
      ]
     },
     "execution_count": 6,
     "metadata": {},
     "output_type": "execute_result"
    }
   ],
   "source": [
    "len(y_train)"
   ]
  },
  {
   "cell_type": "code",
   "execution_count": 7,
   "metadata": {},
   "outputs": [
    {
     "data": {
      "text/plain": [
       "200"
      ]
     },
     "execution_count": 7,
     "metadata": {},
     "output_type": "execute_result"
    }
   ],
   "source": [
    "len(y_test)"
   ]
  },
  {
   "cell_type": "code",
   "execution_count": 8,
   "metadata": {},
   "outputs": [
    {
     "data": {
      "text/plain": [
       "array([-0.25824958,  0.39663167,  2.0284802 ,  1.88493498,  2.07347745,\n",
       "        1.84622582,  0.78568549, -1.49200379,  1.176214  , -1.42529572,\n",
       "        0.5526007 , -0.52800422,  0.45452862, -1.0273392 ,  0.35209657,\n",
       "       -0.88747775, -0.25874085, -0.94708416, -0.39673452, -1.4076798 ,\n",
       "        0.17079184, -1.19815028,  0.31352257,  0.05654013,  0.53935113,\n",
       "        1.05210666])"
      ]
     },
     "execution_count": 8,
     "metadata": {},
     "output_type": "execute_result"
    }
   ],
   "source": [
    "X_train[10]"
   ]
  },
  {
   "cell_type": "code",
   "execution_count": 9,
   "metadata": {},
   "outputs": [],
   "source": [
    "from keras import models\n",
    "from keras import layers\n",
    "\n",
    "model = models.Sequential()\n",
    "model.add(layers.Dense(256, activation='relu', input_shape=(X_train.shape[1],)))\n",
    "\n",
    "model.add(layers.Dense(128, activation='relu'))\n",
    "\n",
    "model.add(layers.Dense(64, activation='relu'))\n",
    "\n",
    "model.add(layers.Dense(10, activation='softmax'))"
   ]
  },
  {
   "cell_type": "code",
   "execution_count": 10,
   "metadata": {},
   "outputs": [],
   "source": [
    "model.compile(optimizer='adam',\n",
    "              loss='sparse_categorical_crossentropy',\n",
    "              metrics=['accuracy'])"
   ]
  },
  {
   "cell_type": "code",
   "execution_count": 11,
   "metadata": {},
   "outputs": [
    {
     "name": "stdout",
     "output_type": "stream",
     "text": [
      "Epoch 1/20\n",
      "7/7 [==============================] - 0s 998us/step - loss: 2.2035 - accuracy: 0.2062\n",
      "Epoch 2/20\n",
      "7/7 [==============================] - 0s 1ms/step - loss: 1.8948 - accuracy: 0.3613\n",
      "Epoch 3/20\n",
      "7/7 [==============================] - 0s 1ms/step - loss: 1.6634 - accuracy: 0.4100\n",
      "Epoch 4/20\n",
      "7/7 [==============================] - 0s 1ms/step - loss: 1.4734 - accuracy: 0.5100\n",
      "Epoch 5/20\n",
      "7/7 [==============================] - 0s 997us/step - loss: 1.3208 - accuracy: 0.5500\n",
      "Epoch 6/20\n",
      "7/7 [==============================] - 0s 997us/step - loss: 1.2088 - accuracy: 0.5875\n",
      "Epoch 7/20\n",
      "7/7 [==============================] - 0s 997us/step - loss: 1.1132 - accuracy: 0.6325\n",
      "Epoch 8/20\n",
      "7/7 [==============================] - 0s 997us/step - loss: 1.0329 - accuracy: 0.6700\n",
      "Epoch 9/20\n",
      "7/7 [==============================] - 0s 997us/step - loss: 0.9696 - accuracy: 0.6975\n",
      "Epoch 10/20\n",
      "7/7 [==============================] - 0s 855us/step - loss: 0.9204 - accuracy: 0.6938\n",
      "Epoch 11/20\n",
      "7/7 [==============================] - 0s 1ms/step - loss: 0.8799 - accuracy: 0.7163\n",
      "Epoch 12/20\n",
      "7/7 [==============================] - 0s 997us/step - loss: 0.8387 - accuracy: 0.7138\n",
      "Epoch 13/20\n",
      "7/7 [==============================] - 0s 997us/step - loss: 0.7819 - accuracy: 0.7387\n",
      "Epoch 14/20\n",
      "7/7 [==============================] - 0s 855us/step - loss: 0.7488 - accuracy: 0.7688\n",
      "Epoch 15/20\n",
      "7/7 [==============================] - 0s 997us/step - loss: 0.7099 - accuracy: 0.7763\n",
      "Epoch 16/20\n",
      "7/7 [==============================] - 0s 997us/step - loss: 0.6915 - accuracy: 0.7825\n",
      "Epoch 17/20\n",
      "7/7 [==============================] - 0s 997us/step - loss: 0.6555 - accuracy: 0.7912\n",
      "Epoch 18/20\n",
      "7/7 [==============================] - 0s 1ms/step - loss: 0.6240 - accuracy: 0.7962\n",
      "Epoch 19/20\n",
      "7/7 [==============================] - 0s 855us/step - loss: 0.5900 - accuracy: 0.8112\n",
      "Epoch 20/20\n",
      "7/7 [==============================] - 0s 1ms/step - loss: 0.5746 - accuracy: 0.8200\n"
     ]
    }
   ],
   "source": [
    "history = model.fit(X_train,\n",
    "                    y_train,\n",
    "                    epochs=20,\n",
    "                    batch_size=128)"
   ]
  },
  {
   "cell_type": "code",
   "execution_count": 12,
   "metadata": {},
   "outputs": [
    {
     "name": "stdout",
     "output_type": "stream",
     "text": [
      "7/7 [==============================] - 0s 712us/step - loss: 0.9280 - accuracy: 0.6850\n"
     ]
    }
   ],
   "source": [
    "test_loss, test_acc = model.evaluate(X_test,y_test)"
   ]
  },
  {
   "cell_type": "code",
   "execution_count": 13,
   "metadata": {},
   "outputs": [
    {
     "name": "stdout",
     "output_type": "stream",
     "text": [
      "test_acc:  0.6850000023841858\n"
     ]
    }
   ],
   "source": [
    "print('test_acc: ',test_acc)"
   ]
  },
  {
   "cell_type": "code",
   "execution_count": null,
   "metadata": {},
   "outputs": [],
   "source": []
  }
 ],
 "metadata": {
  "kernelspec": {
   "display_name": "Python 3",
   "language": "python",
   "name": "python3"
  },
  "language_info": {
   "codemirror_mode": {
    "name": "ipython",
    "version": 3
   },
   "file_extension": ".py",
   "mimetype": "text/x-python",
   "name": "python",
   "nbconvert_exporter": "python",
   "pygments_lexer": "ipython3",
   "version": "3.7.4"
  }
 },
 "nbformat": 4,
 "nbformat_minor": 2
}
